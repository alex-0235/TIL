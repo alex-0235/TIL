{
 "cells": [
  {
   "cell_type": "code",
   "execution_count": null,
   "id": "33c3bf83",
   "metadata": {},
   "outputs": [],
   "source": [
    "N, M = 5, 3\n",
    "\n",
    "# 5 * 5 판에서 2 * 2 부분사각형의 요소 총합 최대값을 구하시오. (49 가 나와야함)\n",
    "# 무식하게 모두 비교한다.\n",
    "board = [\n",
    "    [1, 3, 3, 6, 7],\n",
    "    [8, 13, 9, 12, 8],\n",
    "    [4, 16, 11, 12, 6],\n",
    "    [2, 4, 1, 23, 2],\n",
    "    [9, 13, 4, 7, 3]\n",
    "]"
   ]
  },
  {
   "cell_type": "code",
   "execution_count": null,
   "id": "fd0817f8",
   "metadata": {},
   "outputs": [],
   "source": [
    "def sum_flies(r, c):\n",
    "    # 시작 idx 기준으로 M*M 의 총합\n",
    "    total = 0\n",
    "    for i in range(M):\n",
    "        for j in range(M):\n",
    "            total += board[r+i][c+j]\n",
    "    return total"
   ]
  },
  {
   "cell_type": "code",
   "execution_count": null,
   "id": "61181cf1",
   "metadata": {},
   "outputs": [],
   "source": [
    "# 파리채의 시작(좌-상)index 만 골라줌\n",
    "maximum = 0\n",
    "for row in range(N-M+1):\n",
    "    for col in range(N-M+1):\n",
    "        total = sum_flies(row, col)\n",
    "        if maximum < total:\n",
    "            maximum = total\n",
    "print(maximum)\n",
    "        "
   ]
  }
 ],
 "metadata": {
  "language_info": {
   "name": "python"
  }
 },
 "nbformat": 4,
 "nbformat_minor": 5
}
