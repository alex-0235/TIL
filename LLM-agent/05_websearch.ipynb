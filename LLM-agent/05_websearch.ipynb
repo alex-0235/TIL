{
 "cells": [
  {
   "cell_type": "code",
   "execution_count": 1,
   "id": "4f7d510b",
   "metadata": {},
   "outputs": [
    {
     "name": "stdout",
     "output_type": "stream",
     "text": [
      "Note: you may need to restart the kernel to use updated packages.\n"
     ]
    },
    {
     "name": "stderr",
     "output_type": "stream",
     "text": [
      "\n",
      "[notice] A new release of pip is available: 24.3.1 -> 25.2\n",
      "[notice] To update, run: python.exe -m pip install --upgrade pip\n"
     ]
    }
   ],
   "source": [
    "%pip install -q langchain-tavily\n"
   ]
  },
  {
   "cell_type": "code",
   "execution_count": 2,
   "id": "10bf3757",
   "metadata": {},
   "outputs": [
    {
     "data": {
      "text/plain": [
       "True"
      ]
     },
     "execution_count": 2,
     "metadata": {},
     "output_type": "execute_result"
    }
   ],
   "source": [
    "from dotenv import load_dotenv\n",
    "from pprint import pprint\n",
    "\n",
    "load_dotenv()"
   ]
  },
  {
   "cell_type": "code",
   "execution_count": 3,
   "id": "da490d20",
   "metadata": {},
   "outputs": [],
   "source": [
    "from langchain_tavily import TavilySearch   \n",
    "\n",
    "search_tool = TavilySearch(\n",
    "    tavily_api_key=\"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\",\n",
    "    max_results=5,\n",
    "    topic=\"general\",\n",
    "    search_depth=\"basic\",\n",
    "    # time_range=\"day\",\n",
    "    # include_domains=None,\n",
    "    # exclude_domains=None\n",
    ")"
   ]
  },
  {
   "cell_type": "code",
   "execution_count": 4,
   "id": "a95fe516",
   "metadata": {},
   "outputs": [
    {
     "name": "stdout",
     "output_type": "stream",
     "text": [
      "{'answer': None,\n",
      " 'follow_up_questions': None,\n",
      " 'images': [],\n",
      " 'query': '강남 신세계에서 밥먹을만한 곳 알려줘',\n",
      " 'request_id': '06b79849-108b-4b7e-82f3-0662f98d052e',\n",
      " 'response_time': 0.95,\n",
      " 'results': [{'content': '강남신세계 혼밥맛집 (106곳) · 1. 소녀방앗간 서울고속터미널점 · 2. 타코벨 '\n",
      "                         '서울고속버스터미널점 · 3. 소이연남 파미에스테이션점 · 4. 갓덴스시 센트럴시티점 · 5. '\n",
      "                         '101번지',\n",
      "              'raw_content': None,\n",
      "              'score': 0.7304634,\n",
      "              'title': \"'강남신세계 혼밥' 맛집 빅데이터 추천순위 Top100\",\n",
      "              'url': 'https://www.diningcode.com/list.dc?query=%EA%B0%95%EB%82%A8%EC%8B%A0%EC%84%B8%EA%B3%84%20%ED%98%BC%EB%B0%A5'},\n",
      "             {'content': '1. 더 마고 그릴 신세계강남 · 2. 모던눌랑 강남고속터미널 · 3. 에토레 파미에스테이션 '\n",
      "                         '· 4. 자주테이블 신세계강남 · 5. 쓰리버즈 센트럴시티점 · 6. 더 키친 일뽀르노 신세계',\n",
      "              'raw_content': None,\n",
      "              'score': 0.6907474,\n",
      "              'title': \"'강남신세계백화점 레스토랑' 맛집 빅데이터 추천순위 Top10\",\n",
      "              'url': 'https://www.diningcode.com/list.dc?query=%EA%B0%95%EB%82%A8%EC%8B%A0%EC%84%B8%EA%B3%84%EB%B0%B1%ED%99%94%EC%A0%90%20%EB%A0%88%EC%8A%A4%ED%86%A0%EB%9E%91'},\n",
      "             {'content': '신세계 팩토리스토어 신세계 스타일마켓 신세계 푸드마켓 * 신세계 브랜드 신세계 아카데미;) '\n",
      "                         '신세계 온 아카데미 신세계 문화홀 신세계 VIP 클럽 + 혜택 안내 + 신세계 카드 * 신세계 '\n",
      "                         '아카데미 * 신세계 아카데미 * 신세계 문화홀 * 신세계 VIP 클럽 MY 신세계 MY 신세계 '\n",
      "                         '정상영업 10:30~20:00 연장영업 10:30~20:30 식당가영업 11:00~21:30 '\n",
      "                         '식당가 주문 마감 폐점 30분 전(단, 재료 소진 시 조기 마감 가능)  [하우스 오브 '\n",
      "                         '신세계] 주중/주말 10:30~22:00 \\\\* 주문 마감 1시간 전(단, 재료 소진 시 조기 '\n",
      "                         '마감 가능)  [B1 까사빠보/렌위치/브라우터/파이브가이즈] 10:30-21:00 (연장 영업 '\n",
      "                         '10:30-21:30), [B1 %아라비카] 10:30-21:00 [신세계 팩토리스토어 '\n",
      "                         '강남점] 주중/주말 11:00~21:00  [신세계 푸드마켓 도곡점] 주중/주말 '\n",
      "                         '10:30~22:00 (둘째, 넷째 주 일요일 정기휴점) \\\\* 서울 강남구 언주로30길 '\n",
      "                         '57  [파미에스테이션] 연중무휴 \\\\* 병원, 약국, 미용실, 비식음매장 등 일부 매장은 '\n",
      "                         '휴점 (매장별 휴점일 상이)',\n",
      "              'raw_content': None,\n",
      "              'score': 0.6407488,\n",
      "              'title': '레스토랑 | 강남점',\n",
      "              'url': 'https://www.shinsegae.com/store/restaurant.do'},\n",
      "             {'content': '오목집은 세계에서 가장 쬘깃쬘깃하고 막국수가 맛있는 족발집이랍니다... 여기의 비밀병기는 '\n",
      "                         '막국수랍니다 막국수를 꼭 같이 드셔야해요!',\n",
      "              'raw_content': None,\n",
      "              'score': 0.6139086,\n",
      "              'title': '가족들과 집에서 딱 먹기 좋은! 신세계백화점 강남점&본점 ...',\n",
      "              'url': 'https://blog.naver.com/greenclover120/223605678888?viewType=pc'},\n",
      "             {'content': '서울 신세계 강남점 근처 맛집 Best 10 - Tripadvisor 서울 서울 음식점 '\n",
      "                         'Best 서울 신세계 강남점 근처 맛집 서울  ### 요리 서울 서울 소재 최고의 아침식사 '\n",
      "                         '음식점서울 소재 점심 식사 가능한 음식점서울 소재 저녁 식사 가능한 음식점서울 소재 심야 '\n",
      "                         '음식점서울 소재 저렴한 음식점서울 소재 배달 음식점서울 소재 특별한 날을 위한 음식점서울 소재 '\n",
      "                         '그룹 식사가 가능한 음식점서울 소재 전망이 아름다운 음식점서울 소재 프라이빗 다이닝 음식점커피 '\n",
      "                         '및 차(서울 소재)베이커리(서울 소재)디저트(서울 소재) 호텔 나루 서울 엠갤러리 앰배서더 '\n",
      "                         '근처 음식점JW 메리어트 호텔 서울 근처 음식점머큐어 앰배서더 서울 마곡 근처 음식점글래드 '\n",
      "                         '마포 근처 음식점호텔 스카이파크 명동 1 근처 음식점Fairmont Ambassador '\n",
      "                         'Seoul 근처 음식점소피텔 앰배서더 서울 호텔 & 서비스드 레지던스 근처 음식점호텔 피제이 '\n",
      "                         '명동 근처 음식점글래드 강남 코엑스 센터 근처 음식점글래드 호텔 여의도 근처 음식점',\n",
      "              'raw_content': None,\n",
      "              'score': 0.5993685,\n",
      "              'title': '서울 신세계 강남점 근처 맛집 Best 10 - Tripadvisor',\n",
      "              'url': 'https://www.tripadvisor.co.kr/RestaurantsNear-g294197-d9755552-Shinsegae_Gangnam-Seoul.html'}]}\n"
     ]
    }
   ],
   "source": [
    "pprint(search_tool.invoke({'query': '강남 신세계에서 밥먹을만한 곳 알려줘'}))"
   ]
  },
  {
   "cell_type": "code",
   "execution_count": 5,
   "id": "a8b97542",
   "metadata": {},
   "outputs": [
    {
     "data": {
      "text/plain": [
       "\"강남 신세계백화점에서 점심 식사하기 좋은 곳으로는 맛집 추천 순위에 오른 '101번지남산돈까스'와 '한우리 센트럴시티점'이 있습니다. 특히 한우 소고기국수전골을 즐기실 수 있는 한우리도 인기입니다. 또한, 신세계백화점 내에는 다양한 레스토랑과 푸드코트가 있어 편리하게 식사하실 수 있어요.\""
      ]
     },
     "execution_count": 5,
     "metadata": {},
     "output_type": "execute_result"
    }
   ],
   "source": [
    "from langchain.prompts import PromptTemplate\n",
    "from langchain_openai import ChatOpenAI\n",
    "from langchain_core.output_parsers import StrOutputParser\n",
    "from langchain_core.runnables import RunnableLambda, RunnablePassthrough\n",
    "\n",
    "llm = ChatOpenAI(model='gpt-4.1-nano')\n",
    "\n",
    "prompt = PromptTemplate(\n",
    "    input_variables=['query', 'search_results'],\n",
    "    template=\"\"\"넌 웹 검색결과를 요약해서 사용자의 질문에 맞게 좋은 답을 해주는 챗봇이야.\n",
    "\n",
    "    질문: {query}\n",
    "    검색결과: {search_results}\n",
    "    질문에 맞는 답을 검색결과 바탕으로 간단하게 알려줘\n",
    "    \"\"\"\n",
    ")\n",
    "\n",
    "chain = (\n",
    "    {\n",
    "        'query': RunnablePassthrough(),  # 사용자 입력 그대로 이 자리에 들어옴\n",
    "        'search_results': search_tool | RunnableLambda(\n",
    "            lambda x: '\\n'.join(\n",
    "                [f'-{r['title']} ({r['content']})' for r in x['results']]\n",
    "            )\n",
    "        )\n",
    "    }\n",
    "    | prompt\n",
    "    | llm\n",
    "    | StrOutputParser()\n",
    ")\n",
    "\n",
    "chain.invoke('강남 신세계에서 점심 먹기 좋은곳')"
   ]
  },
  {
   "cell_type": "code",
   "execution_count": 6,
   "id": "f28119db",
   "metadata": {},
   "outputs": [
    {
     "data": {
      "text/plain": [
       "'강남 신세계 주변에서는 다양한 점심 맛집이 있습니다. 편안한 분위기의 한식당이나 한우 전문점, 퓨전 레스토랑 등 선택의 폭이 넓어요. 특히 신세계백화점 내부 또는 근처에 있는 레스토랑들을 이용하면 편리하게 점심을 즐기실 수 있습니다.'"
      ]
     },
     "execution_count": 6,
     "metadata": {},
     "output_type": "execute_result"
    }
   ],
   "source": [
    "dumb_chain = prompt | llm | StrOutputParser()\n",
    "\n",
    "dumb_chain.invoke({'query': '강남 신세계에서 점심먹기 좋은곳', 'search_results': ''})"
   ]
  },
  {
   "cell_type": "code",
   "execution_count": 7,
   "id": "4d6cbe97",
   "metadata": {},
   "outputs": [
    {
     "name": "stdout",
     "output_type": "stream",
     "text": [
      "\n",
      "\n",
      "\u001b[1m> Entering new AgentExecutor chain...\u001b[0m\n",
      "\u001b[32;1m\u001b[1;3m\n",
      "Invoking: `tavily_search` with `{'query': '오늘 09/25의 날씨', 'search_depth': 'basic'}`\n",
      "\n",
      "\n",
      "\u001b[0m\u001b[36;1m\u001b[1;3m{'query': '오늘 09/25의 날씨', 'follow_up_questions': None, 'answer': None, 'images': [], 'results': [{'url': 'https://www.kmib.co.kr/article/view.asp?arcid=0017506095', 'title': '오늘의 날씨 - 오후 (2022년 09월 25일) - 국민일보', 'content': '9월 25일 일요일, 오후 날씨입니다. 이 시간 현재 대부분 지방이 맑은 날씨를 보이고 있고, 호남·경북 지방은 구름이 많으며, 경남·제주 지방은 흐린 날씨', 'score': 0.88822687, 'raw_content': None}, {'url': 'https://news.nate.com/view/20250903n17432', 'title': '오늘의 날씨 (25. 09. 03. 10시) - 네이트 뉴스', 'content': \"공기는 깨끗합니다. 미세먼지 농도는 '좋음' 단계를 보이겠습니다. 낮 최고기온은 서울과 전주 33도, 대전과 대구는 32도까지 오르겠고요. 동풍이 부는\", 'score': 0.7738498, 'raw_content': None}, {'url': 'https://v.daum.net/v/20250901120329168', 'title': '오늘의 날씨 (25. 09. 01. 10시) - Daum', 'content': '# KTV **음성재생 설정** **번역*beta*** Translated by kaka i **번역중** Now in translation **글자크기 설정** 파란원을 좌우로 움직이시면 글자크기가 변경 됩니다. (예시) 가장 빠른 뉴스가 있고 다양한 정보, 쌍방향 소통이 숨쉬는 다음뉴스를 만나보세요. 다음뉴스는 국내외 주요이슈와 실시간 속보, 문화생활 및 다양한 분야의 뉴스를 입체적으로 전달하고 있습니다. 9월의 첫날부터 전국 곳곳에 비가 내리고 있습니다. 현재 서울을 비롯한 수도권과 제주 산지에는 호우특보가 발효 중입니다. 앞으로 수도권과 강원북부내륙에 많게는 100mm 이상, 충청 이남으로도 최대 80mm의 많은 비가 내리겠는데요. 가뭄이 이어지고 있는 강원영동에는 5mm 안팎의 적은 비가 내릴 것으로 보여서 건조함을 해소하긴 어렵겠습니다. 낮 최고기온은 서울 29도, 세종은 30도 머물겠고요. ( KTV 국민방송 케이블방송, 위성방송 ch164, www.ktv.go.kr ) < ⓒ 한국정책방송원 무단전재 및 재배포 금지 > Copyright © KTV. 무단전재 및 재배포 금지.', 'score': 0.73023266, 'raw_content': None}, {'url': 'https://weather.com/ko-KP/weather/today/l/da56e7c5b819a081e38bf80c2c8bfe97f7373b74b49615e7db27081693b51bfe', 'title': '스톡턴, CA, 미국 일기예보 및 날씨 | Weather.com', 'content': '스톡턴, CA, 미국. 09:25 PDT 기준. 27°. 화창. 최고 40° • 최저 20°. 더위 주의보. 오늘 스톡턴, CA, 미국의 날씨 예보. 체감 온도27°. 06:35. 19:33. 최고/최저.', 'score': 0.63288915, 'raw_content': None}, {'url': 'http://www.kspnews.com/2339309', 'title': '오늘의 날씨 (2025년 09월 03일) - 케이에스피뉴스', 'content': \"Image 35: 메인사진 9 NH농협생명, 가평군에 쌀 3.2톤 전달로 희망 전파 10 [[특집] 정부, 소상공인을 위해 마련한 '상생페이백'](http://www.kspnews.com/2335192) Image 36: 광고 섹션뉴스 많이 본 기사 1 환경부, 담수생물종목록 통합본 공개…2만 3천여 종 목록화 2 (재)영동군민장학회, 2025년도 장학생 1,200명 선발 3 음성군, 심뇌혈관질환 예방 '레드서클 캠페인' 전개 4 청주시 보건소, ‘심뇌혈관질환 예방’ 레드서클 캠페인 9월 진행 5 원주시보건소, 여름철 제과점 위생 점검 완료 Image 37: 광고 최신기사 Image 38 K-컬처 트렌드 2026 포럼, 미래 콘텐츠 산업의 나침반 역할 기대 Image 39 무더위와 소나기, 남부지방 강타 Image 40 오늘의 날씨 (2025년 09월 03일) Image 41 원주시역사박물관, 2025년 강원감영 달빛여행 개최 Image 42 원주시보건소, 여름철 제과점 위생 점검 완료 Image 43: 광고 Image 44: 광고 Image 45: 광고 Image 46: 광고\", 'score': 0.53225553, 'raw_content': None}], 'response_time': 1.15, 'request_id': '9c29e0c8-1727-426f-b84f-8eeed8dde807'}\u001b[0m\u001b[32;1m\u001b[1;3m오늘의 날씨는 전국적으로 맑거나 구름이 약간 있으나 전반적으로 쾌적한 상태입니다. 특히, 낮 기온이 높아져서 따뜻한 날씨가 예상됩니다.\n",
      "\n",
      "이런 날씨에 어울리는 음악은 활기차면서도 기분 좋게 느껴지는 곡들이 좋아요. 예를 들어, 밝고 경쾌한 팝, 인디 음악, 혹은 여유로운 재즈 음악이 적합하겠습니다. \n",
      "\n",
      "여기 추천하는 곡 몇 가지입니다:\n",
      "1. \"Happy\" - Pharrell Williams\n",
      "2. \"Walking on Sunshine\" - Katrina and the Waves\n",
      "3. \"Good as Hell\" - Lizzo\n",
      "4. \"Can’t Stop the Feeling!\" - Justin Timberlake\n",
      "5. \"Banana Pancakes\" - Jack Johnson\n",
      "\n",
      "이 음악들이 오늘의 상쾌한 날씨와 잘 어울려서 기분 좋은 하루 보내시길 바랍니다!\u001b[0m\n",
      "\n",
      "\u001b[1m> Finished chain.\u001b[0m\n"
     ]
    },
    {
     "data": {
      "text/plain": [
       "{'messages': [{'role': 'human', 'content': '오늘 날씨에 맞는 음악 추천해줘'}],\n",
       " 'output': '오늘의 날씨는 전국적으로 맑거나 구름이 약간 있으나 전반적으로 쾌적한 상태입니다. 특히, 낮 기온이 높아져서 따뜻한 날씨가 예상됩니다.\\n\\n이런 날씨에 어울리는 음악은 활기차면서도 기분 좋게 느껴지는 곡들이 좋아요. 예를 들어, 밝고 경쾌한 팝, 인디 음악, 혹은 여유로운 재즈 음악이 적합하겠습니다. \\n\\n여기 추천하는 곡 몇 가지입니다:\\n1. \"Happy\" - Pharrell Williams\\n2. \"Walking on Sunshine\" - Katrina and the Waves\\n3. \"Good as Hell\" - Lizzo\\n4. \"Can’t Stop the Feeling!\" - Justin Timberlake\\n5. \"Banana Pancakes\" - Jack Johnson\\n\\n이 음악들이 오늘의 상쾌한 날씨와 잘 어울려서 기분 좋은 하루 보내시길 바랍니다!'}"
      ]
     },
     "execution_count": 7,
     "metadata": {},
     "output_type": "execute_result"
    }
   ],
   "source": [
    "from langchain.agents import create_openai_tools_agent, AgentExecutor\n",
    "from langchain_core.prompts import ChatPromptTemplate, MessagesPlaceholder\n",
    "from datetime import datetime\n",
    "\n",
    "today = datetime.today().strftime('%D')\n",
    "\n",
    "search_tool = TavilySearch(\n",
    "    tavily_api_key=\"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\",\n",
    "    max_results=5,\n",
    "    topic='general'\n",
    ")\n",
    "\n",
    "prompt = ChatPromptTemplate.from_messages([\n",
    "    ('system', f'너는 훌륭한 어시스턴트야. 반드시 웹 검색도구를 사용해서 정보를 얻어. 최대한 답을 잘 해보자. 오늘은 {today}야.'),\n",
    "    MessagesPlaceholder(variable_name='messages'),\n",
    "    MessagesPlaceholder(variable_name='agent_scratchpad')  # 도구(검색) 호출때 필요함\n",
    "])\n",
    "\n",
    "agent = create_openai_tools_agent(\n",
    "    llm=llm,\n",
    "    tools=[search_tool],\n",
    "    prompt=prompt\n",
    ")\n",
    "\n",
    "agent_executor = AgentExecutor(agent=agent, tools=[search_tool], verbose=True)\n",
    "\n",
    "agent_executor.invoke({'messages': [{'role': 'human', 'content': '오늘 날씨에 맞는 음악 추천해줘'}]})"
   ]
  }
 ],
 "metadata": {
  "kernelspec": {
   "display_name": "Python 3",
   "language": "python",
   "name": "python3"
  },
  "language_info": {
   "codemirror_mode": {
    "name": "ipython",
    "version": 3
   },
   "file_extension": ".py",
   "mimetype": "text/x-python",
   "name": "python",
   "nbconvert_exporter": "python",
   "pygments_lexer": "ipython3",
   "version": "3.13.2"
  }
 },
 "nbformat": 4,
 "nbformat_minor": 5
}
