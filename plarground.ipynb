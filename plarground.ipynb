{
 "cells": [
  {
   "cell_type": "code",
   "execution_count": 1,
   "id": "38b5e8f6",
   "metadata": {},
   "outputs": [
    {
     "data": {
      "text/plain": [
       "'안녕하세요안녕하세요'"
      ]
     },
     "execution_count": 1,
     "metadata": {},
     "output_type": "execute_result"
    }
   ],
   "source": [
    "'안녕하세요' * 2"
   ]
  },
  {
   "cell_type": "code",
   "execution_count": 2,
   "id": "1025c309",
   "metadata": {},
   "outputs": [
    {
     "name": "stdout",
     "output_type": "stream",
     "text": [
      "hellohello\n"
     ]
    }
   ],
   "source": [
    "user = input('hello')\n",
    "print(user * 2)"
   ]
  },
  {
   "cell_type": "code",
   "execution_count": 5,
   "id": "b61a749a",
   "metadata": {},
   "outputs": [
    {
     "name": "stdout",
     "output_type": "stream",
     "text": [
      "20\n"
     ]
    }
   ],
   "source": [
    "user = input('숫자를 입력하세요')\n",
    "print(int(user) + 10)"
   ]
  },
  {
   "cell_type": "code",
   "execution_count": 11,
   "id": "690a8b0d",
   "metadata": {},
   "outputs": [
    {
     "name": "stdout",
     "output_type": "stream",
     "text": [
      "짝수 입니다.\n"
     ]
    }
   ],
   "source": [
    "user = int(input('숫자를 입력 해주세요'))\n",
    "if user % 2 == 0:\n",
    "    print('짝수 입니다.')\n",
    "else: \n",
    "    print('홀수 입니다.')"
   ]
  },
  {
   "cell_type": "code",
   "execution_count": null,
   "id": "7ff9d556",
   "metadata": {},
   "outputs": [
    {
     "name": "stdout",
     "output_type": "stream",
     "text": [
      "120\n"
     ]
    }
   ],
   "source": [
    "# 사용자로부터 값을 입력받은 후 해당 값에 20을 더한 값을 출력하라. 단 사용자가 입력한 값과 20을 더한 계산 값이 255를 초과하는 경우 255를 출력해야 한다.\n",
    "\n",
    "user = int(input('숫자를 입력해 주세요'))\n",
    "num = 20 + user\n",
    "if num > 255:\n",
    "    print(255)\n",
    "else:\n",
    "    print(num)"
   ]
  },
  {
   "cell_type": "code",
   "execution_count": 15,
   "id": "3c3c1572",
   "metadata": {},
   "outputs": [
    {
     "name": "stdout",
     "output_type": "stream",
     "text": [
      "255\n"
     ]
    }
   ],
   "source": [
    "# 사용자로부터 하나의 값을 입력받은 후 해당 값에 20을 뺀 값을 출력하라. 단 출력 값의 범위는 0~255이다. \n",
    "# 예를 들어 결괏값이 0보다 작은 값이되는 경우 0을 출력하고 255보다 큰 값이 되는 경우 255를 출력해야 한다.\n",
    "\n",
    "user = int(input('숫자를 입력해 주세요'))\n",
    "num = user - 20\n",
    "if num < 0:\n",
    "    print(0)\n",
    "elif num > 255:\n",
    "    print(255)"
   ]
  },
  {
   "cell_type": "markdown",
   "id": "2a4cf85e",
   "metadata": {},
   "source": [
    "# 2017.07.18 복습--------------------------------------------------------------------------------------------------------------- #"
   ]
  },
  {
   "cell_type": "code",
   "execution_count": null,
   "id": "0c07590e",
   "metadata": {},
   "outputs": [
    {
     "name": "stdout",
     "output_type": "stream",
     "text": [
      "apple\n",
      "cherry\n",
      "cherry\n",
      "banana\n"
     ]
    }
   ],
   "source": [
    "#  인덱스: 리스트나 튜플, 문자열 같은 자료에서 각 값(요소)의 위치 번호를 말해요. 이 번호를 사용해서 값을 꺼내거나 바꿀 수 있어요!\n",
    "\n",
    "fruits = ['apple', 'banana', 'cherry']  # 인덱스 No. 각 0, 1, 2 임\n",
    "print(fruits[0])   # 'apple'\n",
    "print(fruits[2])   # 'cherry'\n",
    "# 인덱스는 음수도 가능\n",
    "print(fruits[-1])   \n",
    "print(fruits[-2])\n",
    "# 인덱스 값은 리스트만 가능 ex) fruits[1] = 'grape'\n",
    "# 범위를 벗어나면 오류"
   ]
  },
  {
   "cell_type": "code",
   "execution_count": null,
   "id": "e6abfd9f",
   "metadata": {},
   "outputs": [
    {
     "name": "stdout",
     "output_type": "stream",
     "text": [
      "['apple', 'banana', 'orange']\n",
      "apple\n",
      "['apple', 'grape', 'orange']\n",
      "['apple', 'grape', 'orange', 'melon']\n",
      "['체리', 'apple', 'grape', 'orange', 'melon']\n",
      "['체리', 'apple', 'orange', 'melon']\n",
      "['체리', 'apple', 'orange']\n"
     ]
    }
   ],
   "source": [
    "# list_리스트\n",
    "# 여러 개의 값을 하나에 담는 \"상자 묶음\" 같은 것! 순서가 있고, 하나하나 꺼내 쓸 수 있어요. 뮤터블!\n",
    "\n",
    "# 기본 리스트\n",
    "fruits = ['apple', 'banana', 'orange']\n",
    "print(fruits)\n",
    "# 첫번째 값 꺼내기\n",
    "print(fruits[0])\n",
    "# 값 바꾸기: 두번째 값 banana를 grape로 바꾸기\n",
    "fruits[1] = 'grape'\n",
    "print(fruits)\n",
    "# 끝에 값(melon) 추가하기\n",
    "fruits.append('melon')\n",
    "print(fruits)\n",
    "# 앞에 값(체리) 추가하기\n",
    "fruits.insert(0, '체리')\n",
    "print(fruits)\n",
    "# 특정 값 제거하기\n",
    "fruits.remove('grape')\n",
    "print(fruits)\n",
    "# 리스트의 마지막 값 제거\n",
    "fruits.pop()\n",
    "print(fruits)\n",
    "\n",
    "# 리스트는 [대괄호] 안에 작성하고 print(값), len(문자열) type(변수)과 같은 함수에 \"무엇 무엇을 요청해줘\" 라고 할때는(소괄호)로 표기 "
   ]
  },
  {
   "cell_type": "code",
   "execution_count": null,
   "id": "399c1335",
   "metadata": {},
   "outputs": [
    {
     "name": "stdout",
     "output_type": "stream",
     "text": [
      "('red', 'green', 'blue')\n",
      "green\n",
      "<class 'int'>\n",
      "<class 'tuple'>\n"
     ]
    }
   ],
   "source": [
    "# tuple_튜플\n",
    "# 리스트와 같이 여러 값을 담는 자료형이나 한번 담으면 바꿀수 없는(이뮤터블) 상자 묶음 임. 단, 값변경/값추가/값삭제 절대 안됨!(리스트와 반대)\n",
    "\n",
    "# 기본 리스트 (소괄호)로 묶음\n",
    "colors = ('red', 'green', 'blue')\n",
    "print(colors)\n",
    "# 값 변경 불가 - colors[0] = 'yellow'와 같이 리스트 처럼 하면 에러!!!\n",
    "# 값 꺼내기\n",
    "print(colors[1])\n",
    "# 한개 짜리 튜플을 만들때는 ,(쉼표)를 넣어줘야 한다.\n",
    "a = (1)     # 그냥 숫자 1 (튜플 아님!)\n",
    "b = (1,)    # 한 개짜리 튜플\n",
    "print(type(a))  # <class 'int'>\n",
    "print(type(b))  # <class 'tuple'>\n",
    "\n",
    "# 튜플을 리스트로 변환 시.... list((1, 2, 3)) 원래 리스트는 [대괄호] 이나 쌍 소괄호와 list를 써 주어서 변환\n"
   ]
  },
  {
   "cell_type": "code",
   "execution_count": null,
   "id": "1c4a200b",
   "metadata": {},
   "outputs": [
    {
     "name": "stdout",
     "output_type": "stream",
     "text": [
      "0\n",
      "1\n",
      "2\n",
      "3\n",
      "4\n",
      "2\n",
      "3\n",
      "4\n",
      "5\n",
      "1\n",
      "3\n",
      "5\n",
      "7\n",
      "9\n",
      "10\n",
      "9\n",
      "8\n",
      "7\n",
      "6\n",
      "5\n",
      "4\n",
      "3\n",
      "2\n",
      "1\n",
      "apple\n",
      "banana\n",
      "cherry\n",
      "[0, 1, 2, 3, 4]\n"
     ]
    }
   ],
   "source": [
    "# range_레인지\n",
    "\n",
    "# 숫자의 범위를 만들어주는... 반복문(for)에서 숫자를 자동으로 만들어 쓸 때 사용\n",
    "# 기본 레인지\n",
    "for i in range(5):\n",
    "    print(i)\n",
    "# 시작 값과 끝 값을 정할 수도 있다.\n",
    "for i in range(2, 6):\n",
    "    print(i)\n",
    "# 시작 값과 끝 값 그리고 간격을 줄 수도 있다. 간격을 음수로도 가능하다.\n",
    "for i in range(1, 10, 2):\n",
    "    print(i)\n",
    "\n",
    "for i in range(10, 0, -1):\n",
    "    print(i)\n",
    "\n",
    "# 리스트와 함께 쓰기. 아래서 i는 임의로 설정한 값\n",
    "fruits = ['apple', 'banana', 'cherry']\n",
    "for i in range(len(fruits)):\n",
    "    print(fruits[i]) \n",
    "# range를 리스트처럼 보고 싶다면...\n",
    "print(list(range(5)))\n",
    "\n",
    "# range를 반복문(for_in 반복할 대상)과 같이 쓰며면 반드시 저장할 변수(_)를 같이 사용해야함. "
   ]
  },
  {
   "cell_type": "code",
   "execution_count": null,
   "id": "81f048cd",
   "metadata": {},
   "outputs": [
    {
     "name": "stdout",
     "output_type": "stream",
     "text": [
      "1\n",
      "2\n",
      "3\n",
      "h\n",
      "e\n",
      "l\n",
      "l\n",
      "o\n",
      "10\n",
      "20\n",
      "30\n"
     ]
    }
   ],
   "source": [
    "# for _ in 문에서 리스트 말고도 반복 가능한 객체들...1\n",
    "\n",
    "# 리스트 [1, 2, 3]\n",
    "for x in [1, 2, 3]:\n",
    "    print(x)\n",
    "# 문자열 \"hello\"\n",
    "for ch in \"hello\":\n",
    "    print(ch)\n",
    "# 튜플 (10, 20, 30)\n",
    "for num in (10, 20, 30):\n",
    "    print(num)\n"
   ]
  },
  {
   "cell_type": "code",
   "execution_count": 43,
   "id": "71643cc6",
   "metadata": {},
   "outputs": [
    {
     "name": "stdout",
     "output_type": "stream",
     "text": [
      "a\n",
      "b\n",
      "a 1\n",
      "b 2\n",
      "5\n",
      "6\n",
      "7\n",
      "0\n",
      "1\n",
      "2\n",
      "3\n",
      "4\n"
     ]
    }
   ],
   "source": [
    "# for _ in 문에서 리스트 말고도 반복 가능한 객체들...2\n",
    "\n",
    "# 딕셔너리 {\"a\": 1, \"b\": 2} 단, Key 값만 반복됨.\n",
    "d = {\"a\": 1, \"b\": 2}\n",
    "for key in d:\n",
    "    print(key)\n",
    "# key와 value를 모두 출력하고 싶으면\n",
    "for key, value in d.items():\n",
    "    print(key, value)\n",
    "# 집합(set): 순서는 보장되지 않지만 반복은 된다. \n",
    "for x in {5, 6, 7}:\n",
    "    print(x)\n",
    "# range 객체\n",
    "for i in range(5):\n",
    "    print(i)"
   ]
  },
  {
   "cell_type": "code",
   "execution_count": 52,
   "id": "8fabe2b9",
   "metadata": {},
   "outputs": [
    {
     "name": "stdout",
     "output_type": "stream",
     "text": [
      "010-1234-5678\n",
      "{'Alex': '010-1111-2222', 'Ben': '010-9876-5432', 'Cara': '010-9999-8888'}\n",
      "Alex 010-1111-2222\n",
      "Ben 010-9876-5432\n",
      "Cara 010-9999-8888\n",
      "Alex 010-1111-2222\n",
      "Ben 010-9876-5432\n",
      "Cara 010-9999-8888\n",
      "Alex\n",
      "Ben\n",
      "Cara\n",
      "010-1111-2222\n",
      "010-9876-5432\n",
      "010-9999-8888\n",
      "Alex 010-1111-2222\n",
      "Ben 010-9876-5432\n",
      "Cara 010-9999-8888\n"
     ]
    }
   ],
   "source": [
    "# 딕셔너리: 키(key)와 값(value)을 짝지어서 저장하는 자료형\n",
    "\n",
    "# 기본 딕셔너리\n",
    "phonebook = {\n",
    "    \"Alex\": \"010-1234-5678\",\n",
    "    \"Ben\": \"010-9876-5432\"\n",
    "}\n",
    "# 값 꺼내기 (참조: 딕셔너리를 만들때는 {중괄호}, 꺼낼때는 [대괄호])\n",
    "print(phonebook[\"Alex\"])\n",
    "\n",
    "# 딕셔너리 값 바꾸기, 추가하기 (key 값으 존재 유무에 따라 파이썬 자체에서 값을 변경하거나 항목을 추가함을 결정함)\n",
    "phonebook[\"Alex\"] = \"010-1111-2222\"   # 값 변경\n",
    "phonebook[\"Cara\"] = \"010-9999-8888\"   # 새 항목 추가\n",
    "\n",
    "print(phonebook)\n",
    "\n",
    "# 둘 다 꺼내기 위한 두가지 방법\n",
    "for name in phonebook:  # 딕셔너리의 키를 하나씩 반복함\n",
    "    print(name, phonebook[name])  # 키와 그에 해당하는 값을 함께 출력함\n",
    "\n",
    "for key, value in phonebook.items():  # .items()를 사용하여 키와 값 둘 다 자동으로 꺼냄!\n",
    "    print(key, value)\n",
    "\n",
    "# 예제문\n",
    "for key in phonebook.keys():\n",
    "    print(key)\n",
    "\n",
    "for value in phonebook.values():\n",
    "    print(value)\n",
    "\n",
    "for key, value in phonebook.items():\n",
    "    print(key, value)"
   ]
  },
  {
   "cell_type": "code",
   "execution_count": null,
   "id": "cabda606",
   "metadata": {},
   "outputs": [
    {
     "name": "stdout",
     "output_type": "stream",
     "text": [
      "성인입니다.\n",
      "미성년자입니다.\n",
      "B학점\n"
     ]
    }
   ],
   "source": [
    "# 조건문\n",
    "# 어떤 조건이 맞을 때만 특정 코드를 실행하는 문법! ex: '비 오면 우산 써' → 조건: 비 온다 → 실행: 우산 써!\n",
    "\n",
    "# 기본 조건문 예제\n",
    "age = 20\n",
    "\n",
    "if age >= 18:  # True 일 때 print 해주는 것이므로 '만약 나이가 18세 이상이면 '성인입니다.' print 실행 \n",
    "    print('성인입니다.')\n",
    "\n",
    "# if, else 조건문\n",
    "age = 15\n",
    "if age >= 18:  # Fales 이기에 pass\n",
    "    print(\"성인입니다.\")\n",
    "else:\n",
    "    print(\"미성년자입니다.\")\n",
    "# if, elif, else 조건문\n",
    "score = 85\n",
    "if score >= 90:\n",
    "    print(\"A학점\")\n",
    "elif score >= 80:\n",
    "    print(\"B학점\")\n",
    "else:\n",
    "    print(\"C학점\")"
   ]
  },
  {
   "cell_type": "code",
   "execution_count": null,
   "id": "b4d0c52f",
   "metadata": {},
   "outputs": [],
   "source": [
    "# 비교 연산자 정리\n",
    "# == 같다 x == 5, != 다르다 x != 5, > 크다\tx > 3, < 작다 x < 10, >= 크거나 같다 x >= 7, <=\t작거나 같다\tx <= 8"
   ]
  },
  {
   "cell_type": "code",
   "execution_count": null,
   "id": "0f09105d",
   "metadata": {},
   "outputs": [
    {
     "name": "stdout",
     "output_type": "stream",
     "text": [
      "1 홀수\n",
      "2 짝수\n",
      "3 홀수\n",
      "4 짝수\n",
      "5 홀수\n"
     ]
    }
   ],
   "source": [
    "# 조건문(if, elif, else)과 반복문(for _ in)의 콜라보\n",
    "numbers = [1, 2, 3, 4, 5]\n",
    "\n",
    "for n in numbers:\n",
    "    if n % 2 == 0:\n",
    "        print(n, \"짝수\")\n",
    "    else:\n",
    "        print(n, \"홀수\")  # n에 numbers [1, 2, 3, 4, 5]를 순차적으로 넣으면서 n을 2로 나눈 나머지가 '0'과 같으면(==) 짝수, 아니면 다 '홀수'"
   ]
  },
  {
   "cell_type": "code",
   "execution_count": null,
   "id": "f98b1c67",
   "metadata": {},
   "outputs": [
    {
     "name": "stdout",
     "output_type": "stream",
     "text": [
      "성인이지만 학생은 아닙니다.\n",
      "10보다 큰 짝수입니다.\n"
     ]
    }
   ],
   "source": [
    "# 중첩 조건문: if문 안에 또 다른 if문을 넣는 것! ex) '비가 오면 → 우산을 써. 그리고 추우면 → 코트도 입어.'\n",
    "\n",
    "age = 18\n",
    "is_student = False\n",
    "if age >= 18:\n",
    "    if is_student:\n",
    "        print(\"성인 학생입니다.\")\n",
    "    else:\n",
    "        print(\"성인이지만 학생은 아닙니다.\")\n",
    "else:\n",
    "    print(\"미성년자입니다.\")\n",
    "\n",
    "n = 12\n",
    "if n % 2 == 0:\n",
    "    if n > 10:\n",
    "        print(\"10보다 큰 짝수입니다.\")\n",
    "    else:\n",
    "        print(\"10이하의 짝수입니다.\")\n",
    "else:\n",
    "    print(\"홀수입니다.\")"
   ]
  },
  {
   "cell_type": "code",
   "execution_count": null,
   "id": "f84e44fc",
   "metadata": {},
   "outputs": [
    {
     "name": "stdout",
     "output_type": "stream",
     "text": [
      "(1, 2, 3) <class 'tuple'>\n",
      "[4, 5, 6] <class 'list'>\n",
      "1 2 3\n",
      "10 20 30\n",
      "1\n",
      "[2, 3, 4]\n",
      "[1, 2, 3]\n",
      "4\n",
      "10\n",
      "20\n",
      "[30, 40, 50]\n"
     ]
    }
   ],
   "source": [
    "# 패킹, 언패킹\n",
    "\n",
    "# 패킹: 패킹(packing) 이란 여러 개의 값을 하나의 변수에 묶어서 저장하는 것!\n",
    "a = 1, 2, 3  # 괄호 없어도 튜플로 패킹됨\n",
    "b = [4, 5, 6]  # 리스트로 패킹\n",
    "print((a), type(a))\n",
    "print((b), type(b))\n",
    "\n",
    "# 언패킹: 언패킹(Unpacking)이란? 하나로 묶인 값을 여러 변수에 풀어서 나누는 것\n",
    "x, y, z = (1, 2, 3)\n",
    "print(x, y, z)\n",
    "\n",
    "nums = [10, 20, 30]\n",
    "a, b, c = nums\n",
    "print(a, b, c)   \n",
    "# 특별한 언패킹: * 하나 붙이면 나머지 값을 전부 묶어서 받을 수 있음\n",
    "a, *b = [1, 2, 3, 4]\n",
    "print(a)  # 1\n",
    "print(b)  # [2, 3, 4]\n",
    "\n",
    "*a, b = [1, 2, 3, 4]\n",
    "print(a)  # [1, 2, 3]\n",
    "print(b)  # 4\n",
    "\n",
    "a, b, *c = [10, 20, 30, 40, 50]\n",
    "print(a)  # 10\n",
    "print(b)  # 20\n",
    "print(c)  # [30, 40, 50]"
   ]
  },
  {
   "cell_type": "code",
   "execution_count": null,
   "id": "6bd1d07a",
   "metadata": {},
   "outputs": [
    {
     "name": "stdout",
     "output_type": "stream",
     "text": [
      "10\n",
      "20\n",
      "Alex\n",
      "30\n",
      "Developer\n"
     ]
    }
   ],
   "source": [
    "# 패킹, 언패킹 사용 사례\n",
    "\n",
    "# 사례 1: 하나의 변수로 여러 값(좌표, 결과 값, 설정 값 등)을 묶어 전달하거나 저장할 수 있음 \n",
    "a = 1, 2, 3    # 튜플 패킹\n",
    "b = [4, 5, 6]  # 리스트 패킹\n",
    "\n",
    "# 사례 2: 튜플에 묶인 값을 개별 변수로 분해(좌표 분리, 함수 결과 분리, 키-값 분리 등) 할 때\n",
    "x, y = (10, 20)\n",
    "print(x)  # 10\n",
    "print(y)  # 20\n",
    "\n",
    "info = [\"Alex\", 30, \"Developer\"]  # 튜플이나 리스트를 변수에 나눠 담을 때 사례 중 일부 임. \n",
    "name, age, job = info\n",
    "print(name)  # Alex\n",
    "print(age)   # 30\n",
    "print(job)   # Developer\n",
    "\n",
    "# *** 기타 사례는 좀 더 공부 후 다시 학습\n",
    "# 기타 사례 예시: 함수에서 여러 값을 리턴하거나 받을 때, for문에서 딕셔너리나 튜플을 꺼낼 때, * 연산자를 이용한 나머지 처리 (확장 언패킹) \n"
   ]
  }
 ],
 "metadata": {
  "kernelspec": {
   "display_name": "Python 3",
   "language": "python",
   "name": "python3"
  },
  "language_info": {
   "codemirror_mode": {
    "name": "ipython",
    "version": 3
   },
   "file_extension": ".py",
   "mimetype": "text/x-python",
   "name": "python",
   "nbconvert_exporter": "python",
   "pygments_lexer": "ipython3",
   "version": "3.13.2"
  }
 },
 "nbformat": 4,
 "nbformat_minor": 5
}
