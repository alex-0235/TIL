{
 "cells": [
  {
   "cell_type": "markdown",
   "id": "f39edaaa",
   "metadata": {},
   "source": [
    "### **lotto.ipynb**"
   ]
  },
  {
   "cell_type": "code",
   "execution_count": 18,
   "id": "8c31a46d",
   "metadata": {},
   "outputs": [],
   "source": [
    "# URL URI -> 요청을 보낸다. -> 응답\n",
    "import random\n",
    "my_numbers = random.sample(range(1, 46), 6)"
   ]
  },
  {
   "cell_type": "code",
   "execution_count": 10,
   "id": "9ea3b14f",
   "metadata": {},
   "outputs": [],
   "source": [
    "import requests\n",
    "URL = 'https://www.dhlottery.co.kr/common.do?method=getLottoNumber&drwNo=1181'\n",
    "res = requests.get(URL)\n"
   ]
  },
  {
   "cell_type": "code",
   "execution_count": 17,
   "id": "3d43ea6d",
   "metadata": {},
   "outputs": [
    {
     "data": {
      "text/plain": [
       "{'totSellamnt': 113802682000,\n",
       " 'returnValue': 'success',\n",
       " 'drwNoDate': '2025-07-19',\n",
       " 'firstWinamnt': 1593643500,\n",
       " 'drwtNo6': 41,\n",
       " 'drwtNo4': 20,\n",
       " 'firstPrzwnerCo': 17,\n",
       " 'drwtNo5': 33,\n",
       " 'bnusNo': 28,\n",
       " 'firstAccumamnt': 27091939500,\n",
       " 'drwNo': 1181,\n",
       " 'drwtNo2': 10,\n",
       " 'drwtNo3': 14,\n",
       " 'drwtNo1': 8}"
      ]
     },
     "execution_count": 17,
     "metadata": {},
     "output_type": "execute_result"
    }
   ],
   "source": [
    "data = res.json()\n",
    "data"
   ]
  },
  {
   "cell_type": "code",
   "execution_count": null,
   "id": "f0f7d44e",
   "metadata": {},
   "outputs": [
    {
     "name": "stdout",
     "output_type": "stream",
     "text": [
      "[8, 29, 27, 38, 23, 35]\n",
      "[8, 10, 14, 20, 33, 41] 28\n"
     ]
    },
    {
     "data": {
      "text/plain": [
       "'\\n1등 6개 같음\\n2등 5개가 같고, 나머지 한개가 보너스번호\\n3등 5개 같음\\n4등 4개 같음\\n5등 3개 같음\\n꽝\\n\\n'"
      ]
     },
     "execution_count": 28,
     "metadata": {},
     "output_type": "execute_result"
    }
   ],
   "source": [
    "print(my_numbers)\n",
    "\n",
    "\n",
    "# 1. data 에서 real_numbers 를 뽑는다.\n",
    "real_numbers = [data[f'drwtNo{i}'] for i in range(1, 7)]\n",
    "# 필요하면 real_numbers.sort() 진행\n",
    "bonus = data['bnusNo']\n",
    "\n",
    "print(real_numbers, bonus)"
   ]
  },
  {
   "cell_type": "code",
   "execution_count": 29,
   "id": "f193b2c7",
   "metadata": {},
   "outputs": [
    {
     "name": "stdout",
     "output_type": "stream",
     "text": [
      "False\n"
     ]
    }
   ],
   "source": [
    "# 2. real_numbers + 보너스 와 my_numbers 를 비교해서 등수 확인\n",
    "'''\n",
    "1등 6개 같음\n",
    "2등 5개가 같고, 나머지 한개가 보너스번호\n",
    "3등 5개 같음\n",
    "4등 4개 같음\n",
    "5등 3개 같음\n",
    "꽝\n",
    "'''\n",
    "# 맞는 숫자의 개수\n",
    "match_cnt = len(set(real_numbers) & set(my_numbers))\n",
    "if match_cnt == 6:\n",
    "    print(1)\n",
    "elif match_cnt == 5 and bonus in my_numbers:\n",
    "    print(2)\n",
    "elif match_cnt == 5:\n",
    "    print(3)\n",
    "elif match_cnt == 4:\n",
    "    print(4)\n",
    "elif match_cnt == 3:\n",
    "    print(5)\n",
    "else:\n",
    "    print(False)"
   ]
  },
  {
   "cell_type": "code",
   "execution_count": null,
   "id": "880ddbc3",
   "metadata": {},
   "outputs": [],
   "source": [
    "# 3. 등수를 뽑아주는 함수를 만들어 보자.\n",
    "def check_luck(my_numbers, real_numbers, bonus):\n",
    "    match_cnt = len(set(real_numbers) & set(my_numbers))\n",
    "    if match_cnt == 6:\n",
    "        result = 1\n",
    "    elif match_cnt == 5 and bonus in my_numbers:\n",
    "        result = 2\n",
    "    elif match_cnt == 5:\n",
    "        result = 3\n",
    "    elif match_cnt == 4:\n",
    "        result = 4\n",
    "    elif match_cnt == 3:\n",
    "        result = 5\n",
    "    else:\n",
    "        result = False\n",
    "\n",
    "    return result\n",
    "\n",
    "check_luck([1,2,3,4,5,6], [1,2,3,4,5,7], 6)"
   ]
  },
  {
   "cell_type": "code",
   "execution_count": null,
   "id": "1eb65f5b",
   "metadata": {},
   "outputs": [],
   "source": [
    "# 얼마를 써야 1등이 나오는가\n",
    "\n",
    "cnt = 1\n",
    "real_numbers = [data[f'drwtNo{i}'] for i in range(1, 7)]\n",
    "bonus = data['bnusNo']\n",
    "\n",
    "while True:\n",
    "    cnt += 1\n",
    "    result = check_luck(random.sample(range(1, 46), 6), real_numbers, bonus)\n",
    "    \n",
    "    if result:\n",
    "        print(result)\n",
    "\n",
    "    if result == 1:\n",
    "        break\n",
    "\n",
    "print(cnt * 1000)  # 13,270,013,000  1,593,643,500"
   ]
  },
  {
   "cell_type": "code",
   "execution_count": null,
   "id": "2be8b53d",
   "metadata": {},
   "outputs": [
    {
     "name": "stdout",
     "output_type": "stream",
     "text": [
      "[18, 24, 25, 27, 38, 43]\n",
      "1 게임: [2, 5, 7, 13, 18, 23]\n",
      "2 게임: [19, 21, 23, 34, 36, 45]\n",
      "3 게임: [2, 9, 19, 31, 37, 38]\n",
      "4 게임: [6, 21, 24, 25, 26, 38]\n",
      "5 게임: [4, 10, 19, 31, 38, 40]\n"
     ]
    }
   ],
   "source": [
    "# ChatGPT 작성 로또번호 생성기\n",
    "import random\n",
    "def my_lotto_no():\n",
    "    return sorted(random.sample(range(1, 46), 6))\n",
    "print(my_lotto_no())\n",
    "\n",
    "# ChatGPT 작성 로또번호 생성기(5장 연속)\n",
    "def my_lotto_numbers(n):\n",
    "    for i in range(n):\n",
    "        print(f\"{i+1} 게임:\", my_lotto_no())\n",
    "\n",
    "my_lotto_numbers(5)"
   ]
  },
  {
   "cell_type": "code",
   "execution_count": 25,
   "id": "b71adc6b",
   "metadata": {},
   "outputs": [
    {
     "name": "stdout",
     "output_type": "stream",
     "text": [
      "본번호: [15, 18, 25, 34, 35, 45] / 보너스: 42\n",
      "1 게임: [4, 7, 9, 12, 22, 40] + 보너스: 44\n",
      "2 게임: [7, 21, 27, 39, 42, 44] + 보너스: 30\n",
      "3 게임: [11, 13, 15, 27, 29, 41] + 보너스: 6\n",
      "4 게임: [11, 24, 26, 28, 43, 44] + 보너스: 42\n",
      "5 게임: [3, 13, 15, 24, 26, 42] + 보너스: 19\n"
     ]
    }
   ],
   "source": [
    "# ChatGPT 작성 로또번호 생성기 + 보너스 번호\n",
    "import random\n",
    "def 로또번호_생성_보너스():\n",
    "    본번호 = random.sample(range(1, 46), 6)\n",
    "    본번호.sort()\n",
    "    후보 = [n for n in range(1, 46) if n not in 본번호]\n",
    "    보너스 = random.choice(후보)\n",
    "    return 본번호, 보너스\n",
    "본, 보너스 = 로또번호_생성_보너스()\n",
    "print(\"본번호:\", 본, \"/ 보너스:\", 보너스)\n",
    "\n",
    "# ChatGPT 작성 로또번호 생성기(5장 연속) + 보너스 번호\n",
    "def 로또_여러게임_보너스(n):\n",
    "    for i in range(n):\n",
    "        본, 보너스 = 로또번호_생성_보너스()\n",
    "        print(f\"{i+1} 게임: {본} + 보너스: {보너스}\")\n",
    "로또_여러게임_보너스(5)\n",
    "\n"
   ]
  }
 ],
 "metadata": {
  "kernelspec": {
   "display_name": "Python 3",
   "language": "python",
   "name": "python3"
  },
  "language_info": {
   "codemirror_mode": {
    "name": "ipython",
    "version": 3
   },
   "file_extension": ".py",
   "mimetype": "text/x-python",
   "name": "python",
   "nbconvert_exporter": "python",
   "pygments_lexer": "ipython3",
   "version": "3.13.2"
  }
 },
 "nbformat": 4,
 "nbformat_minor": 5
}
