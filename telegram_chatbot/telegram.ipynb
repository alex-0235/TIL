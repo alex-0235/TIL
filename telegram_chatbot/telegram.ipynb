{
 "cells": [
  {
   "cell_type": "markdown",
   "id": "d50b9fad",
   "metadata": {},
   "source": [
    "#### telegram.ipynb"
   ]
  },
  {
   "cell_type": "code",
   "execution_count": 55,
   "id": "c483b1cd",
   "metadata": {},
   "outputs": [],
   "source": [
    "bot_token = '8240826688:AAEgqjzHVQXE8HchFvKU7Q99tkV_j0hxwDU'"
   ]
  },
  {
   "cell_type": "code",
   "execution_count": 56,
   "id": "a58abb39",
   "metadata": {},
   "outputs": [],
   "source": [
    "URL = f'https://api.telegram.org/bot{bot_token}'"
   ]
  },
  {
   "cell_type": "code",
   "execution_count": 57,
   "id": "5e0c6c19",
   "metadata": {},
   "outputs": [
    {
     "name": "stdout",
     "output_type": "stream",
     "text": [
      "https://api.telegram.org/bot8240826688:AAEgqjzHVQXE8HchFvKU7Q99tkV_j0hxwDU/getMe\n"
     ]
    }
   ],
   "source": [
    "# Bot 에 대한 정보\n",
    "print(URL + '/getMe')"
   ]
  },
  {
   "cell_type": "code",
   "execution_count": 58,
   "id": "80d98d1c",
   "metadata": {},
   "outputs": [
    {
     "name": "stdout",
     "output_type": "stream",
     "text": [
      "https://api.telegram.org/bot8240826688:AAEgqjzHVQXE8HchFvKU7Q99tkV_j0hxwDU/getUpdates\n"
     ]
    }
   ],
   "source": [
    "# Bot의 모든 업데이트\n",
    "print(URL + '/getUpdates')"
   ]
  },
  {
   "cell_type": "code",
   "execution_count": 70,
   "id": "f469fd7b",
   "metadata": {},
   "outputs": [
    {
     "name": "stdout",
     "output_type": "stream",
     "text": [
      "https://api.telegram.org/bot8240826688:AAEgqjzHVQXE8HchFvKU7Q99tkV_j0hxwDU/sendMessage\n"
     ]
    }
   ],
   "source": [
    "# 답장을 위한 상대방 id\n",
    "my_id = '7554393590'\n",
    "# 메세지\n",
    "message = '응애봇'\n",
    "\n",
    "print(URL + '/sendMessage')"
   ]
  },
  {
   "cell_type": "code",
   "execution_count": 71,
   "id": "f2cf4d6a",
   "metadata": {},
   "outputs": [
    {
     "name": "stdout",
     "output_type": "stream",
     "text": [
      "로또 7554393590\n"
     ]
    }
   ],
   "source": [
    "# 봇 업데이트 받아서, 마지막 메세지 & 유저 받아오기      [[[수신 담당]]]\n",
    "\n",
    "import requests\n",
    "# /getUpates 로 요청 보내고 -> 응답 JSON 받아서 저장 (실행할때마다 갱신)\n",
    "data = requests.get(URL + '/getUpdates').json()\n",
    "\n",
    "# 데이터 안에 마지막 메세지의 text(내용)을 뽑아라.\n",
    "input_msg = data[\"result\"][-1][\"message\"][\"text\"]\n",
    "# 마지막 메시지의 보낸사람 id 뽑기\n",
    "sender_id = data[\"result\"][-1][\"message\"][\"from\"]['id']\n",
    "\n",
    "print(input_msg, sender_id)"
   ]
  },
  {
   "cell_type": "code",
   "execution_count": 72,
   "id": "2d9332f9",
   "metadata": {},
   "outputs": [],
   "source": [
    "# 쌤 작성\n",
    "\n",
    "import random\n",
    "# 메세지가 '로또'면, 로또번호 6개 만들어서 보내기\n",
    "if input_msg in ('로또', 'lotto', '가즈아'):\n",
    "    output_msg = str(random.sample(range(1, 46), 6))\n",
    "elif input_msg == '안녕':\n",
    "    output_msg = '오냐'\n",
    "else:\n",
    "    output_msg = '아직은 그런건 몰루'"
   ]
  },
  {
   "cell_type": "code",
   "execution_count": 73,
   "id": "b196a3ec",
   "metadata": {},
   "outputs": [
    {
     "data": {
      "text/plain": [
       "{'ok': True,\n",
       " 'result': {'message_id': 21,\n",
       "  'from': {'id': 8240826688,\n",
       "   'is_bot': True,\n",
       "   'first_name': 'gijin_bot',\n",
       "   'username': 'gijin_alex_bot'},\n",
       "  'chat': {'id': 7554393590,\n",
       "   'first_name': '기진',\n",
       "   'last_name': '장',\n",
       "   'type': 'private'},\n",
       "  'date': 1753337443,\n",
       "  'text': '[34, 27, 16, 10, 45, 2]'}}"
      ]
     },
     "execution_count": 73,
     "metadata": {},
     "output_type": "execute_result"
    }
   ],
   "source": [
    "# 메세지 만들어서 전송   [[[발신 담당]]]\n",
    "\n",
    "body = {\n",
    "    # 누구한테...\n",
    "    'chat_id': sender_id,\n",
    "    # 답변메세지...\n",
    "    'text': output_msg,\n",
    "}\n",
    "\n",
    "requests.get(URL + '/sendMessage', body).json()"
   ]
  }
 ],
 "metadata": {
  "kernelspec": {
   "display_name": "Python 3",
   "language": "python",
   "name": "python3"
  },
  "language_info": {
   "codemirror_mode": {
    "name": "ipython",
    "version": 3
   },
   "file_extension": ".py",
   "mimetype": "text/x-python",
   "name": "python",
   "nbconvert_exporter": "python",
   "pygments_lexer": "ipython3",
   "version": "3.13.2"
  }
 },
 "nbformat": 4,
 "nbformat_minor": 5
}
