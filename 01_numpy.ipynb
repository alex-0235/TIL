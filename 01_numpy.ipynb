{
 "cells": [
  {
   "cell_type": "markdown",
   "id": "47ab60c4",
   "metadata": {},
   "source": [
    "# **`01_numpy.ipynb`**\n",
    "\n",
    "- 통계 vs 데이터분석 vs 머신러닝\n",
    "    - 데이터분석: **문제를 정의하고 인사이트를 도출** (고객 구매 패턴 분석)\n",
    "    - 통계: 데이터를 **요약, 해석하는 수학** (평균, 분산)\n",
    "    - 머신러닝: 데이터를 학습하여 **예측** (스팸함 분류, 추천)\n",
    "- 데이터분석 : 데이터를 분석하여 의사결정에 도움을 준다.\n",
    "    - 의사결정 데이터 기반의 근거\n",
    "    - 패턴 반견, 예측 (머신러닝)\n",
    "\n",
    "- DA(Data Analysis) Flow\n",
    "    1. 문제 정의\n",
    "    2. 데이터 수집\n",
    "    3. 데이터 정제 (결측치, 이상치 처리)\n",
    "    4. 탐색 - 시각화 (평균, 분포, 상관관계, 막대그래프, 히스토그램) - 통계분석 및 해석 (수학 -> 가설 설정, 회귀분석)\n",
    "    5. 결론 도출 \n",
    "\n",
    "- 시트 vs Db vs Python\n",
    "    - 시트는 편함\n",
    "    - DB는 대용량 CRUD(Create, Read, Update, Delete) (억단위)\n",
    "    - 파이썬 시각화, 분석, 머신러닝\n",
    "\n",
    "- 라이브러리 \n",
    "    - `numpy` : 빠름 (배열 연산)\n",
    "    - `pandas` : 표 (Data Frame) -> `numpy` 기반으로 만들어 졌음.\n",
    "    - `matplotlib` : 시각화 (그래프)\n",
    "    - `seaborn` : 시각화 심화\n",
    "    - `scipy` : 고급 통계, 수학 연산\n",
    "    - `scikit-learn` : 머신러닝"
   ]
  },
  {
   "cell_type": "code",
   "execution_count": 4,
   "id": "fda3dbc7",
   "metadata": {},
   "outputs": [
    {
     "name": "stdout",
     "output_type": "stream",
     "text": [
      "[2, 4, 6, 8, 10]\n"
     ]
    }
   ],
   "source": [
    "python_list = [1, 2, 3, 4, 5]\n",
    "\n",
    "# [2, 4, 6, 8, 10]를 만드는 코드\n",
    "result = [x*2 for x in python_list]\n",
    "print(result)\n"
   ]
  },
  {
   "cell_type": "code",
   "execution_count": null,
   "id": "6bdf3754",
   "metadata": {},
   "outputs": [
    {
     "name": "stdout",
     "output_type": "stream",
     "text": [
      "[ 2  4  6  8 10]\n"
     ]
    }
   ],
   "source": [
    "import numpy as np\n",
    "\n",
    "array = np.array([1, 2, 3, 4, 5])\n",
    "result = array * 2\n",
    "print(result)\n"
   ]
  },
  {
   "cell_type": "code",
   "execution_count": 12,
   "id": "2ca931e5",
   "metadata": {},
   "outputs": [
    {
     "name": "stdout",
     "output_type": "stream",
     "text": [
      "[1 2 3 4 5] <class 'numpy.ndarray'>\n",
      "차원 1\n",
      "형태 (5,)\n",
      "크기 5\n"
     ]
    }
   ],
   "source": [
    "arr = np.array([1, 2, 3, 4, 5])\n",
    "print(arr, type(arr))\n",
    "print('차원', arr.ndim)\n",
    "print('형태', arr.shape)\n",
    "print('크기', arr.size)"
   ]
  },
  {
   "cell_type": "code",
   "execution_count": 20,
   "id": "995539b5",
   "metadata": {},
   "outputs": [
    {
     "data": {
      "text/plain": [
       "array([1, 2, 3, 4, 5])"
      ]
     },
     "execution_count": 20,
     "metadata": {},
     "output_type": "execute_result"
    }
   ],
   "source": [
    "arr1d = np.array([1, 2, 3, 4, 5])\n",
    "arr1d"
   ]
  },
  {
   "cell_type": "code",
   "execution_count": null,
   "id": "d8f962bd",
   "metadata": {},
   "outputs": [
    {
     "data": {
      "text/plain": [
       "(2, (2, 3), 6)"
      ]
     },
     "execution_count": 18,
     "metadata": {},
     "output_type": "execute_result"
    }
   ],
   "source": [
    "l2d = [\n",
    "    [1, 2, 3],\n",
    "    [4, 5, 6],\n",
    "]\n",
    "arr2d = np.array(l2d)\n",
    "arr2d.ndim, arr2d.shape, arr2d.size\n"
   ]
  },
  {
   "cell_type": "code",
   "execution_count": null,
   "id": "e1d87386",
   "metadata": {},
   "outputs": [
    {
     "data": {
      "text/plain": [
       "array([1., 2., 3.])"
      ]
     },
     "execution_count": 21,
     "metadata": {},
     "output_type": "execute_result"
    }
   ],
   "source": [
    "# 실수형 arr\n",
    "np.array([1, 2, 3], dtype=float)"
   ]
  },
  {
   "cell_type": "code",
   "execution_count": 62,
   "id": "b6df2c8c",
   "metadata": {},
   "outputs": [
    {
     "name": "stdout",
     "output_type": "stream",
     "text": [
      "[0. 0. 0. 0. 0.] [[0. 0. 0.]\n",
      " [0. 0. 0.]]\n",
      "[1. 1. 1. 1. 1.] [[1. 1. 1.]\n",
      " [1. 1. 1.]]\n",
      "[7 7 7 7 7] [[7 7 7]\n",
      " [7 7 7]]\n",
      "[7.74860419e-304 7.74860419e-304 7.74860419e-304]\n"
     ]
    }
   ],
   "source": [
    "# 0으로 채워침\n",
    "z1d = np.zeros(5)\n",
    "z2d = np.zeros((2, 3))\n",
    "print(z1d, z2d)\n",
    "\n",
    "# 1로 채워침\n",
    "o1d = np.ones(5)\n",
    "o2d = np.ones((2, 3))\n",
    "print(o1d, o2d)\n",
    "\n",
    "#n으로 채움\n",
    "n1d = np.full(5, 7)\n",
    "n2d = np.full((2, 3), 7)\n",
    "print(n1d, n2d)\n",
    "\n",
    "# 빈칸이지만 먼저 만듬\n",
    "empty = np.empty(3)\n",
    "print(empty)"
   ]
  },
  {
   "cell_type": "code",
   "execution_count": null,
   "id": "92092ed5",
   "metadata": {},
   "outputs": [
    {
     "name": "stdout",
     "output_type": "stream",
     "text": [
      "[0 2 4 6 8]\n",
      "[0.   0.25 0.5  0.75 1.  ]\n",
      "[  1.           3.16227766  10.          31.6227766  100.        ]\n"
     ]
    }
   ],
   "source": [
    "# 시퀀스 데이터\n",
    "\n",
    "# range\n",
    "range_arr = np.arange(0, 10, 2)\n",
    "print(range_arr)\n",
    "\n",
    "# 등간격 실수 배열\n",
    "lin_space = np.linspace(0, 1, 5)\n",
    "print(lin_space)\n",
    "\n",
    "# 로그스케일\n",
    "log_space = np.logspace(0, 2, 5)  # 10^0 ~ 10^2 5개 요소\n",
    "print(log_space)\n"
   ]
  },
  {
   "cell_type": "code",
   "execution_count": 63,
   "id": "23fba92f",
   "metadata": {},
   "outputs": [
    {
     "name": "stdout",
     "output_type": "stream",
     "text": [
      "[[0.0452944  0.66940716 0.93781696]\n",
      " [0.64550841 0.08261883 0.24034056]\n",
      " [0.84269621 0.22490421 0.93193558]]\n",
      "[[-0.52357322 -0.52087665 -0.3226145 ]\n",
      " [ 1.32303066 -1.7317256  -1.08457827]\n",
      " [ 0.84875513 -0.07504223 -2.6752923 ]]\n",
      "[[7 1 9]\n",
      " [7 0 0]\n",
      " [6 4 6]]\n"
     ]
    },
    {
     "data": {
      "text/plain": [
       "array([0.37454012, 0.95071431, 0.73199394])"
      ]
     },
     "execution_count": 63,
     "metadata": {},
     "output_type": "execute_result"
    }
   ],
   "source": [
    "# 난수 배열\n",
    "\n",
    "# 균등 분포 난수 (0~1) 사이를 균들활률 분포\n",
    "random = np.random.rand(3, 3)  # 0 ~ 1 실수\n",
    "print(random)\n",
    "\n",
    "# 정규 분포 난수\n",
    "normal = np.random.randn(3, 3)\n",
    "print(normal)\n",
    "\n",
    "# 정수 난수 (0 ~ 9, 3*3)\n",
    "int_random = np.random.randint(0, 10, (3, 3))\n",
    "print(int_random)\n",
    "\n",
    "# 시드 설정(랜덤 재현 가능)\n",
    "np.random.seed(42)  # 랜덤 상황 42 고정\n",
    "np.random.rand(3)\n"
   ]
  },
  {
   "cell_type": "code",
   "execution_count": 64,
   "id": "16ce0029",
   "metadata": {},
   "outputs": [
    {
     "name": "stdout",
     "output_type": "stream",
     "text": [
      "int64\n",
      "float64\n",
      "float32\n",
      "[1.2 2.3 3.4] float64\n"
     ]
    }
   ],
   "source": [
    "# 배열의 데이터 타입\n",
    "\n",
    "# 데이터 타입 확인\n",
    "arr = np.array([1, 2, 3])\n",
    "print(arr.dtype)\n",
    "\n",
    "# 데이터 타입 지정 생성\n",
    "f_arr = np.array([1, 2, 3], dtype=np.float64)\n",
    "print(f_arr.dtype)\n",
    "\n",
    "# 데이터 타입 변경 (int -> float)\n",
    "converted = arr.astype(np.float32)\n",
    "print(converted.dtype)\n",
    "\n",
    "# 문자열 -> 숫자\n",
    "str_arr = np.array(['1.2', '2.3', '3.4'])\n",
    "num_arr = str_arr.astype(float)  # np.floatXX 라고 지정 안하고 float 쓰면 -> float64\n",
    "print(num_arr, num_arr.dtype)"
   ]
  },
  {
   "cell_type": "code",
   "execution_count": null,
   "id": "acb06719",
   "metadata": {},
   "outputs": [
    {
     "name": "stdout",
     "output_type": "stream",
     "text": [
      "8\n",
      "4\n",
      "24\n",
      "12\n"
     ]
    }
   ],
   "source": [
    "# 1칸의 메모리 사용량\n",
    "print(arr.itemsize)  # int64 -> 8byte\n",
    "print(converted.itemsize)  # float32 -> 4byte\n",
    "\n",
    "# 총 메모리 사용량\n",
    "print(arr.nbytes)  # 8byte * 3칸\n",
    "print(converted.nbytes)"
   ]
  },
  {
   "cell_type": "code",
   "execution_count": 55,
   "id": "20302718",
   "metadata": {},
   "outputs": [
    {
     "name": "stdout",
     "output_type": "stream",
     "text": [
      "[ 0  1  2  3  4  5  6  7  8  9 10 11]\n",
      "[[ 0  1  2  3]\n",
      " [ 4  5  6  7]\n",
      " [ 8  9 10 11]]\n",
      "[[[ 0  1  2]\n",
      "  [ 3  4  5]]\n",
      "\n",
      " [[ 6  7  8]\n",
      "  [ 9 10 11]]]\n",
      "[[ 0  1  2  3]\n",
      " [ 4  5  6  7]\n",
      " [ 8  9 10 11]]\n",
      "[[ 0  1  2  3  4  5]\n",
      " [ 6  7  8  9 10 11]]\n"
     ]
    }
   ],
   "source": [
    "# 배열 재구성\n",
    "arr = np.arange(12)\n",
    "print(arr)\n",
    "\n",
    "reshaped = arr.reshape(3, 4)  # 3row * 4col\n",
    "print(reshaped)\n",
    "\n",
    "reshaped3d = arr.reshape(2, 2, 3)  # 2페이지, 2row * 3col\n",
    "print(reshaped3d)\n",
    "\n",
    "# 자동계산\n",
    "auto1 = arr.reshape(3, -1)\n",
    "auto2 = arr.reshape(-1, 6)\n",
    "\n",
    "print(auto1)\n",
    "print(auto2)\n",
    "\n"
   ]
  },
  {
   "cell_type": "code",
   "execution_count": 66,
   "id": "7166b78a",
   "metadata": {},
   "outputs": [
    {
     "name": "stdout",
     "output_type": "stream",
     "text": [
      "[[ 0  1  2  3]\n",
      " [ 4  5  6  7]\n",
      " [ 8  9 10 11]]\n",
      "[ 0  1  2  3  4  5  6  7  8  9 10 11]\n",
      "[[ 0  1  2  3]\n",
      " [ 4  5  6  7]\n",
      " [ 8  9 10 11]]\n"
     ]
    }
   ],
   "source": [
    "# reshape -> 원본 그대로, 새로운 배열 만드\n",
    "# resize  -> 원본을 바꿈\n",
    "\n",
    "arr = np.arange(12)\n",
    "reshaped = arr.reshape(3, 4)  # 새로운 배열 리턴\n",
    "print(reshaped)\n",
    "print(arr)\n",
    "\n",
    "arr.resize(3, 4)  # arr 이 바뀜\n",
    "print(arr)"
   ]
  },
  {
   "cell_type": "code",
   "execution_count": null,
   "id": "3bfa9618",
   "metadata": {},
   "outputs": [
    {
     "name": "stdout",
     "output_type": "stream",
     "text": [
      "[ 1  2  3  4  5  6  7  8  9 10 11 12 13 14 15] [ 1  2  3  4  5  6  7  8  9 10 11 12 13 14 15]\n",
      "[1 3 5 7 9]\n",
      "[0.  0.6 1.2 1.8 2.4 3. ]\n"
     ]
    }
   ],
   "source": [
    "# 1 ~ 15 정수 배열 ( arange vs array(range) )\n",
    "print(np.arange(1, 16), np.array(range(1, 16)))\n",
    "\n",
    "# 0 ~ 9까지 홀수\n",
    "print(np.arange(1, 10, 2))\n",
    "\n",
    "# 0 ~ 3까지 균등 6등분(5구간) 배열\n",
    "print(np.linspace(0, 3, 6))"
   ]
  },
  {
   "cell_type": "code",
   "execution_count": 61,
   "id": "3b0a3b1c",
   "metadata": {},
   "outputs": [
    {
     "name": "stdout",
     "output_type": "stream",
     "text": [
      "[[1. 0. 0. 0.]\n",
      " [0. 1. 0. 0.]\n",
      " [0. 0. 1. 0.]\n",
      " [0. 0. 0. 1.]]\n"
     ]
    },
    {
     "data": {
      "text/plain": [
       "array([[[0.46857365, 0.84231998, 0.33759946, 0.15701231],\n",
       "        [0.75378312, 0.45479635, 0.84789716, 0.21207357],\n",
       "        [0.9963822 , 0.90767257, 0.36456491, 0.05651706]],\n",
       "\n",
       "       [[0.95019754, 0.26666162, 0.84401091, 0.63946973],\n",
       "        [0.70421252, 0.59925892, 0.75301278, 0.93919381],\n",
       "        [0.09361873, 0.89032427, 0.29153019, 0.41369282]]])"
      ]
     },
     "execution_count": 61,
     "metadata": {},
     "output_type": "execute_result"
    }
   ],
   "source": [
    "# 4 * 4 단위 행렬(identity matrix) ->  대각선1, 나머지 0)\n",
    "print(np.eye(4))\n",
    "\n",
    "# 3 * 4 사이즈의 1로 가득찬 int 배열\n",
    "np.ones((3, 4), dtype=int)\n",
    "\n",
    "# 2 * 3 * 4 사이즈 0~1 난수 배열\n",
    "np.random.rand(2, 3, 4)  # 인자로 차원 지정 -> 오래된 버전에서 주로 씀\n",
    "np.random.random((2, 3, 4))  # 튜플로 차원 지정 -> 최신 버전에서 주로 씀"
   ]
  }
 ],
 "metadata": {
  "kernelspec": {
   "display_name": "Python 3",
   "language": "python",
   "name": "python3"
  },
  "language_info": {
   "codemirror_mode": {
    "name": "ipython",
    "version": 3
   },
   "file_extension": ".py",
   "mimetype": "text/x-python",
   "name": "python",
   "nbconvert_exporter": "python",
   "pygments_lexer": "ipython3",
   "version": "3.13.2"
  }
 },
 "nbformat": 4,
 "nbformat_minor": 5
}
